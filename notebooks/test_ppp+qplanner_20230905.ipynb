{
 "cells": [
  {
   "cell_type": "markdown",
   "id": "68760248-c1f3-43c2-a55a-c4a6f8f7f6c0",
   "metadata": {},
   "source": [
    "# Test PPP, qPlanner, and SFA.py"
   ]
  },
  {
   "cell_type": "markdown",
   "id": "9e9c0c98-3739-48e0-81e8-c1cc6afeb486",
   "metadata": {},
   "source": [
    "memo\n",
    "- repo location\n",
    "    - (kiyoyabe) /work/kiyoyabe/obsproc/e2e/src/repo\n",
    "    - (pfs) /work/pfs/obsproc/e2e/repo"
   ]
  },
  {
   "cell_type": "code",
   "execution_count": 1,
   "id": "5dcf95fb-91ff-4cfb-92c3-97b4283e65f7",
   "metadata": {},
   "outputs": [],
   "source": [
    "#%matplotlib widget\n",
    "%load_ext autoreload\n",
    "%autoreload 2\n",
    "\n",
    "import os\n",
    "import numpy as np\n",
    "import pandas as pd\n",
    "import matplotlib.pyplot as plt\n",
    "from matplotlib import rcParams,ticker,gridspec\n",
    "import random\n",
    "import time\n",
    "from IPython.display import clear_output\n",
    "from sklearn.neighbors import KernelDensity\n",
    "import glob\n",
    "import seaborn as sns\n",
    "from astropy.table import Table\n",
    "from astropy import units as u\n",
    "from astropy.coordinates import SkyCoord\n",
    "from astropy.time import Time\n",
    "import multiprocessing\n",
    "import collections\n",
    "from shapely.geometry import Point\n",
    "from matplotlib.path import Path\n",
    "import colorcet as cc\n",
    "from itertools import chain\n",
    "import sys\n",
    "from logzero import logger\n",
    "from IPython.display import clear_output\n",
    "\n",
    "#below for netflow\n",
    "from __future__ import print_function\n",
    "import ets_fiber_assigner.netflow as nf\n",
    "from ics.cobraOps.Bench import Bench\n",
    "from ics.cobraOps.TargetGroup import TargetGroup\n",
    "from ics.cobraOps.CobrasCalibrationProduct import CobrasCalibrationProduct\n",
    "from ics.cobraOps.CollisionSimulator import CollisionSimulator\n",
    "from ics.cobraOps.cobraConstants import NULL_TARGET_POSITION, NULL_TARGET_ID\n",
    "from ics.cobraOps import plotUtils\n",
    "from collections import defaultdict\n",
    "\n",
    "np.random.seed(1)"
   ]
  },
  {
   "cell_type": "code",
   "execution_count": 2,
   "id": "7e1d58ef-0c19-4c15-b770-483c45ede1df",
   "metadata": {},
   "outputs": [],
   "source": [
    "'''Change the directory name if you like. \n",
    "If you make a new directory, copy /work/kiyoyabe/obsproc/e2e/test/20230615/sample_inuse to the directory\n",
    "'''\n",
    "\n",
    "# workDir='/home/kiyoyabe/obsproc/e2e/notebooks/test_ppp+qplan+sfa'\n",
    "# workDir='../python/obsproc/'\n",
    "# repoDir='/work/kiyoyabe/obsproc/e2e/src/repo'\n",
    "\n",
    "# sys.path.append(os.path.join(workDir, 'utils'))\n",
    "# sys.path.append(os.path.join(workDir, 'planning'))\n",
    "from pfs_obsproc_planning import generatePfsDesign\n",
    "\n",
    "config='config.toml'"
   ]
  },
  {
   "cell_type": "markdown",
   "id": "4565cec8-3f20-4df8-b5bb-7ad4fe9bc903",
   "metadata": {},
   "source": [
    "### Run PPP"
   ]
  },
  {
   "cell_type": "code",
   "execution_count": 3,
   "id": "b3434bf5-8f28-45d7-996d-7ad699f027c8",
   "metadata": {},
   "outputs": [
    {
     "ename": "NameError",
     "evalue": "name 'workDir' is not defined",
     "output_type": "error",
     "traceback": [
      "\u001b[0;31m---------------------------------------------------------------------------\u001b[0m",
      "\u001b[0;31mNameError\u001b[0m                                 Traceback (most recent call last)",
      "Cell \u001b[0;32mIn[3], line 1\u001b[0m\n\u001b[0;32m----> 1\u001b[0m gpd \u001b[38;5;241m=\u001b[39m generatePfsDesign\u001b[38;5;241m.\u001b[39mGeneratePfsDesign(config, \u001b[43mworkDir\u001b[49m, repoDir)\n",
      "\u001b[0;31mNameError\u001b[0m: name 'workDir' is not defined"
     ]
    }
   ],
   "source": [
    "gpd = generatePfsDesign.GeneratePfsDesign(config, workDir, repoDir)"
   ]
  },
  {
   "cell_type": "code",
   "execution_count": null,
   "id": "ec507494-259a-4603-8a77-1651f567d019",
   "metadata": {},
   "outputs": [],
   "source": [
    "n_pccs_l = 40\n",
    "n_nccs_m = 10\n",
    "#gpd.runPPP(n_pccs_l, n_nccs_m, show_plots=True)"
   ]
  },
  {
   "cell_type": "markdown",
   "id": "b432a512-0950-40a8-bcfe-bf972a22433e",
   "metadata": {},
   "source": [
    "### Run queuePlanner"
   ]
  },
  {
   "cell_type": "code",
   "execution_count": null,
   "id": "c09ace4d-9328-46a1-b614-c35b36732381",
   "metadata": {},
   "outputs": [],
   "source": [
    "#obs_dates = [\"2023-05-20\", \"2023-05-21\", \"2023-05-22\", \"2023-05-23\"]\n",
    "#obs_dates = [\"2023-09-20\", \"2023-09-21\"]\n",
    "obs_dates = [\"2023-12-20\", \"2023-12-21\", \"2023-12-22\"]\n",
    "gpd.runQPlan(obs_dates)"
   ]
  },
  {
   "cell_type": "markdown",
   "id": "9098a209-c2dc-4d36-b773-f2802f183635",
   "metadata": {},
   "source": [
    "### Run SFA.py (reconfigure_fibers_ppp)"
   ]
  },
  {
   "cell_type": "code",
   "execution_count": null,
   "id": "07542cd6-9345-49ed-9c96-be62cc8b6fbb",
   "metadata": {},
   "outputs": [],
   "source": [
    "#data = np.load(os.path.join(workDir, 'output/obj_allo_tot.npy'), allow_pickle=True)\n",
    "#data[0]"
   ]
  },
  {
   "cell_type": "code",
   "execution_count": null,
   "id": "5d76d5e4-f924-4018-9f85-8ba302951217",
   "metadata": {},
   "outputs": [],
   "source": [
    "#t = Table.read(os.path.join(workDir, 'output/obList.ecsv'))\n",
    "#t[:3]"
   ]
  },
  {
   "cell_type": "code",
   "execution_count": null,
   "id": "cb20216b-f97d-4287-98ca-0b300ed6535d",
   "metadata": {
    "tags": []
   },
   "outputs": [],
   "source": [
    "gpd.runSFA(clearOutput=True)"
   ]
  },
  {
   "cell_type": "code",
   "execution_count": null,
   "id": "830d6f75-90ff-456b-8708-c43e92396091",
   "metadata": {},
   "outputs": [],
   "source": []
  },
  {
   "cell_type": "markdown",
   "id": "2394947a-1a61-47db-b6a9-f65cd988b5c6",
   "metadata": {},
   "source": [
    "## check results"
   ]
  },
  {
   "cell_type": "code",
   "execution_count": null,
   "id": "bba07cf9-6a08-416d-ac53-49b0d4b0a1d7",
   "metadata": {},
   "outputs": [],
   "source": [
    "df = pd.read_csv(os.path.join(workDir, 'output/summary_reconfigure_ppp-ppp+qplan_outout.csv'))\n",
    "df[:5]"
   ]
  },
  {
   "cell_type": "code",
   "execution_count": null,
   "id": "0cf583f4-09cf-48d9-a565-56347da0313a",
   "metadata": {},
   "outputs": [],
   "source": [
    "pointings = df['pointing']\n",
    "designs = df['design_filename']\n",
    "obstimes = df['observation_time']"
   ]
  },
  {
   "cell_type": "code",
   "execution_count": null,
   "id": "6302d9eb-f86e-49cb-8086-27ff48d128b9",
   "metadata": {},
   "outputs": [],
   "source": [
    "len(np.unique(pointings))"
   ]
  },
  {
   "cell_type": "code",
   "execution_count": null,
   "id": "609f26bd-2753-44fc-b89f-73a0a2886348",
   "metadata": {},
   "outputs": [],
   "source": []
  }
 ],
 "metadata": {
  "kernelspec": {
   "display_name": "Python 3 (ipykernel)",
   "language": "python",
   "name": "python3"
  },
  "language_info": {
   "codemirror_mode": {
    "name": "ipython",
    "version": 3
   },
   "file_extension": ".py",
   "mimetype": "text/x-python",
   "name": "python",
   "nbconvert_exporter": "python",
   "pygments_lexer": "ipython3",
   "version": "3.9.17"
  },
  "widgets": {
   "application/vnd.jupyter.widget-state+json": {
    "state": {},
    "version_major": 2,
    "version_minor": 0
   }
  }
 },
 "nbformat": 4,
 "nbformat_minor": 5
}
